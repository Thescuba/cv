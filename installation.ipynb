{
 "cells": [
  {
   "cell_type": "markdown",
   "metadata": {},
   "source": [
    "# Installation\n",
    "This tutorial is for everyone who needs to install opencv3 onto their systems. \n",
    "\n",
    "## Downloading Anaconda \n",
    "The easiest way is to download [Anaconda](https://www.anaconda.com/download/). The current version we are working with in this tutorial is Python 3.6, but feel free to download the latest version of python 3. \n",
    "\n",
    "The installer will prompt you to choose advanced options which we do not need. The installer will also prompt you to download Microsoft Visual Studio Code, which is completely optional and not needed.\n",
    "\n",
    "Once installed, open up Anaconda Navigator and click on the Environments tab on the left.\n",
    "![](Images/environment.PNG)\n",
    "\n",
    "## Creating A New Environment\n",
    "After installing Anaconda, we want to create a new environment for our project by clicking create, naming it \"CV\", then clicking create again.\n",
    "![](Images/create.PNG)\n",
    "\n",
    "## Installing Key Components\n",
    "We will need to install Jupyter Labs for our environment. Click Home on the left hand side, make sure \"CV\" is the chosen application near the upper right, and then click \"Install\" under Jupyter Labs. \n",
    "\n",
    "\n",
    "![](Images/JLInstall.jpg)\n",
    "\n",
    "We will now install two more components using the terminal. Go back to the Environments tab and open up terminal by doing the following:\n",
    "\n",
    "![](Images/open terminal.PNG)\n",
    "\n",
    "Copy/paste/type the following into the terminal: conda install -c conda-forge opencv\n",
    "\n",
    "![](Images/Installopencv.png)\n",
    "\n",
    "When prompted, enter \"y\" and press enter to proceed with the installation.\n",
    "\n",
    "![](Images/Installyesorno.png)\n",
    "\n",
    "Now, we will install matplotlib using the terminal by copy/pasting the following: conda install matplotlib\n",
    "Again, proceed when prompted by entering \"y\" into the terminal.\n",
    "\n",
    "![](Images/Installmatplotlib.png)\n",
    "\n",
    "Here is a [link to the opencv packages](https://anaconda.org/search?q=opencv) containing other available versions. \n",
    "\n",
    "\n",
    "\n"
   ]
  },
  {
   "cell_type": "markdown",
   "metadata": {},
   "source": [
    "### additional google drive feature \n",
    "\n",
    "[node](https://nodejs.org/en/)\n",
    "https://github.com/jupyterlab/jupyterlab-google-drive"
   ]
  },
  {
   "cell_type": "code",
   "execution_count": null,
   "metadata": {},
   "outputs": [],
   "source": []
  }
 ],
 "metadata": {
  "kernelspec": {
   "display_name": "Python 3",
   "language": "python",
   "name": "python3"
  },
  "language_info": {
   "codemirror_mode": {
    "name": "ipython",
    "version": 3
   },
   "file_extension": ".py",
   "mimetype": "text/x-python",
   "name": "python",
   "nbconvert_exporter": "python",
   "pygments_lexer": "ipython3",
   "version": "3.6.5"
  }
 },
 "nbformat": 4,
 "nbformat_minor": 2
}
