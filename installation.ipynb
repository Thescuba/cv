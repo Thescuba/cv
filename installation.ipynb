{
 "cells": [
  {
   "cell_type": "markdown",
   "metadata": {},
   "source": [
    "# Installation\n",
    "This tutorial is for everyone who needs to install opencv3 onto their systems. \n",
    "\n",
    "## Downloading Anaconda \n",
    "The easiest way is to download [Anaconda](https://www.anaconda.com/download/). The current version we are working with in this tutorial is Python 3.6, but feel free to download the latest version of python 3. \n",
    "\n",
    "The installer will prompt you to choose advanced options which we do not need. The installer will also prompt you to download Microsoft Visual Studio Code, which is completely optional and not needed.",
    "\n",
    "\n",
    "Once installed, open up Anaconda Navigator and click on the Environments tab on the left.\n",
    "![](Images/environment.PNG)\n",
    "\n",
    "## Creating A New Environment\n",
    "After installing Anaconda, we want to create a new environment for our project by clicking create, naming it \"CV\", then clicking create again.\n",
    "![](Images/create.PNG)\n",
    "\n",
    "We will need to install Jupyter Labs for our environment. Click Home on the left hand side. Make sure \"CV\" is the chosen application near the upper right and then click \"Install\" under Jupyter Labs. \n",
    "\n",
    "![](Images/JLInstall.jpg)\n",
    "\n",
    "Now go back to the cv environment and open it up in terminal.\n",
    "![](Images/open terminal.PNG)\n",
    "\n",
    "\n",
    "To install, click the green arrow, open up terminal for cv, and then paste in \"conda install -c conda-forge opencv\" \n",
    "\n",
    "Here is a link to the opencv packages [opencv](https://anaconda.org/search?q=opencv) containing other available versions. \n",
    "\n",
    "![](Images/install.PNG)\n",
    "![](Images/yes.PNG)\n",
    "\n",
    "\n"
   ]
  },
  {
   "cell_type": "markdown",
   "metadata": {},
   "source": [
    "### additional google drive feature \n",
    "\n",
    "[node](https://nodejs.org/en/)\n",
    "https://github.com/jupyterlab/jupyterlab-google-drive"
   ]
  },
  {
   "cell_type": "code",
   "execution_count": null,
   "metadata": {},
   "outputs": [],
   "source": []
  }
 ],
 "metadata": {
  "kernelspec": {
   "display_name": "Python 3",
   "language": "python",
   "name": "python3"
  },
  "language_info": {
   "codemirror_mode": {
    "name": "ipython",
    "version": 3
   },
   "file_extension": ".py",
   "mimetype": "text/x-python",
   "name": "python",
   "nbconvert_exporter": "python",
   "pygments_lexer": "ipython3",
   "version": "3.6.5"
  }
 },
 "nbformat": 4,
 "nbformat_minor": 2
}
