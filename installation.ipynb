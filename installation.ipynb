{
 "cells": [
  {
   "cell_type": "markdown",
   "metadata": {},
   "source": [
    "# Installation\n",
    "This tutorial is for everyone who needs to install opencv3 on to their systems. \n",
    "\n",
    "## reword \n",
    "The easiest way is to download [Anaconda](https://www.anaconda.com/download/), the current version we are working with in this tutorial in 3.6 but feel free to download the latest version of python 3. \n",
    "\n",
    "Once installed open up Anaconda Navigator and click on the envirment tab on the left.\n",
    "\n",
    "\n",
    "## reword this\n",
    "After installing anaconda we want to create a new envirment for our project by clicking create and and naming it cv then clicking create again\n",
    "\n",
    "you have the option to install jupyter labs on the home tab\n",
    "\n",
    "now go back to the cv envirment and open it up in terminal\n",
    "\n",
    "\n",
    "\n",
    "\n",
    "To install click the green arrow and open up terminal for cv and then paste in \"conda install -c conda-forge opencv\"\n",
    "Here a link to the opencv packages [opencv]([Anaconda](https://www.anaconda.com/download/)) with other version abilable. \n",
    "\n",
    "\n",
    "\n",
    "\n"
   ]
  },
  {
   "cell_type": "markdown",
   "metadata": {},
   "source": [
    "now lets see what happen when we change y"
   ]
  },
  {
   "cell_type": "markdown",
   "metadata": {},
   "source": [
    "### additional google drive feature \n",
    "\n",
    "[node](https://nodejs.org/en/)\n",
    "[Gdrive addon](https://github.com/jupyterlab/jupyterlab-google-drive)\n"
   ]
  },
  {
   "cell_type": "code",
   "execution_count": null,
   "metadata": {},
   "outputs": [],
   "source": []
  }
 ],
 "metadata": {
  "kernelspec": {
   "display_name": "Python 3",
   "language": "python",
   "name": "python3"
  },
  "language_info": {
   "codemirror_mode": {
    "name": "ipython",
    "version": 3
   },
   "file_extension": ".py",
   "mimetype": "text/x-python",
   "name": "python",
   "nbconvert_exporter": "python",
   "pygments_lexer": "ipython3",
   "version": "3.6.5"
  }
 },
 "nbformat": 4,
 "nbformat_minor": 2
}
